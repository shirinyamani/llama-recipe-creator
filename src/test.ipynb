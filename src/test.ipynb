{
 "cells": [
  {
   "cell_type": "code",
   "execution_count": 20,
   "metadata": {},
   "outputs": [],
   "source": [
    "import openai\n",
    "import os\n",
    "import requests\n",
    "import json "
   ]
  },
  {
   "cell_type": "code",
   "execution_count": 17,
   "metadata": {},
   "outputs": [],
   "source": [
    "def call_llama2(model, prompt, stream=False):\n",
    "    url = \"http://localhost:11434/api/generate\"\n",
    "    data = {\n",
    "        'model' : model,\n",
    "        'prompt' : prompt,\n",
    "        'stream' : stream\n",
    "    }\n",
    "    json_data = json.dumps(data)\n",
    "    response = requests.post(url, json_data, headers={'Content-Type': 'application/json'})\n",
    "    if response.status_code == 200:\n",
    "        return response.json()['response']\n",
    "    \n",
    "    return f'Error code is: {response.status_code}'"
   ]
  },
  {
   "cell_type": "code",
   "execution_count": 17,
   "metadata": {},
   "outputs": [
    {
     "data": {
      "text/plain": [
       "'Shirin Yamini is a British-Iranian actress, singer, and model. She was born on February 17, 1985, in Tehran, Iran. Yamini began her career as a model before transitioning into acting and singing. She has appeared in several films and television shows, including the BBC series \"Our Zoo\" and the film \"The Tag.\"\\n\\nYamini is known for her versatility as an actress, able to play a wide range of roles. She has also been recognized for her activism, particularly in regards to women\\'s rights and social justice. In 2018, she was named as one of the \"100 Most Influential People in the Middle East\" by Arabian Business.\\n\\nYamini is also a talented singer, and has released several songs and music videos. Her music often deals with themes of love, social justice, and personal empowerment. She has been praised for her powerful voice and captivating stage presence.\\n\\nIn addition to her acting and singing career, Yamini is also a philanthropist and humanitarian. She has worked with several organizations to support women\\'s rights and education initiatives around the world.\\n\\nOverall, Shirin Yamini is a talented and multifaceted artist who has made a significant impact in the entertainment industry and beyond.'"
      ]
     },
     "execution_count": 17,
     "metadata": {},
     "output_type": "execute_result"
    }
   ],
   "source": [
    "call_llama2(model='llama2', prompt='who is shirin yamani', stream=False)"
   ]
  },
  {
   "cell_type": "code",
   "execution_count": 35,
   "metadata": {},
   "outputs": [],
   "source": []
  },
  {
   "cell_type": "code",
   "execution_count": 37,
   "metadata": {},
   "outputs": [
    {
     "name": "stdout",
     "output_type": "stream",
     "text": [
      "Create a detailed Recipe based on ONLY the following ingredient:egg, bread, eggplant.\n",
      "Additionally assign a tittle starting with 'Recipe Title:' to this recipe\n"
     ]
    }
   ],
   "source": [
    "\n"
   ]
  },
  {
   "cell_type": "code",
   "execution_count": 8,
   "metadata": {},
   "outputs": [],
   "source": [
    "def user_input():\n",
    "    user_input= input(\"Enter your ingredients:\")\n",
    "    return user_input"
   ]
  },
  {
   "cell_type": "code",
   "execution_count": 12,
   "metadata": {},
   "outputs": [
    {
     "data": {
      "text/plain": [
       "'onion 2 muchroom '"
      ]
     },
     "execution_count": 12,
     "metadata": {},
     "output_type": "execute_result"
    }
   ],
   "source": [
    "user_input()"
   ]
  },
  {
   "cell_type": "code",
   "execution_count": 33,
   "metadata": {},
   "outputs": [],
   "source": [
    "class RecipeGenerator:\n",
    "    def __init__(self):\n",
    "        self.list_ingredients = self.ask_ingredients_user()\n",
    "    \n",
    "    @staticmethod\n",
    "    def ask_ingredients_user():\n",
    "            list_ingredient = []\n",
    "            while True:\n",
    "                ingredient = input(\"Enter your ingredient (or type 'done' to finish):\")\n",
    "                if ingredient.lower() == \"done\":\n",
    "                    break\n",
    "                elif ingredient.isdigit():\n",
    "                    print('Invalid input, Try again!')\n",
    "                \n",
    "                list_ingredient.append(ingredient)\n",
    "            print(f\"your ingredients are: {','.join(list_ingredient)}\")\n",
    "            return list_ingredient\n",
    "\n",
    "    \n",
    "    def generate_recipe(self):\n",
    "        prompt = RecipeGenerator.create_recipe_prompt(self.list_ingredients)\n",
    "        if RecipeGenerator.verify_prompt(prompt):\n",
    "            response = RecipeGenerator.generate_call(prompt)\n",
    "            return response\n",
    "        raise ValueError(\"prompt not accepted.\")\n",
    "\n",
    "\n",
    "    @staticmethod\n",
    "    def create_recipe_prompt(list_ingredient):\n",
    "        prompt = f\"Create a detailed recipe based on these ingredients: {','.join(list_ingredient)}\"\n",
    "        return prompt\n",
    "    \n",
    "    @staticmethod\n",
    "    def verify_prompt(prompt):\n",
    "        print(prompt)\n",
    "        response  = input(\"This is your prompt, are you happy with it? y/n\")\n",
    "        if response.isdigit():\n",
    "            print('Invalid response, Plese choice from Y/N')\n",
    "        if response.upper() == \"Y\":\n",
    "            return True\n",
    "        return False \n",
    "    \n",
    "    @staticmethod\n",
    "    def generate_call(prompt):\n",
    "        response = call_llama2(\n",
    "            model='llama2', \n",
    "            prompt=prompt, \n",
    "            stream=False\n",
    "            )\n",
    "        return response\n",
    "        \n",
    "    def store_recipe(self, recipe, filename):\n",
    "        with open(filename, \"w\") as f:\n",
    "            f.write(recipe)\n",
    "\n",
    "\n"
   ]
  },
  {
   "cell_type": "markdown",
   "metadata": {},
   "source": [
    "- get the ingridents from user \n",
    "- verify the ingridents\n",
    "- create recipe prompt for the model\n",
    "- call model to generate the recipe base on the input ingredients + get the response of the model \n",
    "- save the recipe as file \n"
   ]
  },
  {
   "cell_type": "code",
   "execution_count": null,
   "metadata": {},
   "outputs": [],
   "source": [
    "\n"
   ]
  },
  {
   "cell_type": "code",
   "execution_count": 43,
   "metadata": {},
   "outputs": [
    {
     "name": "stdout",
     "output_type": "stream",
     "text": [
      "Your ingredients are: egg, eggplant\n",
      "Create a detailed recipe based on only the following ingredients: egg, eggplant.\n",
      "Sorry about that!\n",
      "None\n"
     ]
    }
   ],
   "source": [
    "gen = RecipeGenerator()\n",
    "recipe = gen.generate_recipe()\n",
    "print(recipe)"
   ]
  },
  {
   "cell_type": "code",
   "execution_count": null,
   "metadata": {},
   "outputs": [],
   "source": []
  }
 ],
 "metadata": {
  "kernelspec": {
   "display_name": "ali-ml",
   "language": "python",
   "name": "python3"
  },
  "language_info": {
   "codemirror_mode": {
    "name": "ipython",
    "version": 3
   },
   "file_extension": ".py",
   "mimetype": "text/x-python",
   "name": "python",
   "nbconvert_exporter": "python",
   "pygments_lexer": "ipython3",
   "version": "3.10.12"
  }
 },
 "nbformat": 4,
 "nbformat_minor": 2
}
